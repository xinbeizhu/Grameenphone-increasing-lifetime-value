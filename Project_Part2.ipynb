{
 "cells": [
  {
   "cell_type": "markdown",
   "id": "37be1874",
   "metadata": {},
   "source": [
    "# Project Part2"
   ]
  },
  {
   "cell_type": "code",
   "execution_count": 1,
   "id": "8cbf622b",
   "metadata": {},
   "outputs": [],
   "source": [
    "import math \n",
    "import numpy as np\n",
    "from scipy import linalg\n",
    "import matplotlib.pyplot as plt\n",
    "import itertools\n",
    "import time"
   ]
  },
  {
   "cell_type": "markdown",
   "id": "09673739",
   "metadata": {},
   "source": [
    "## 1. \n",
    "Write a function decoder(A,C,p,o) that takes as inputs:  \n",
    "• An n × n state transmission matrix A for a hidden Markov model  \n",
    "• An m × n emission probability matrix C  \n",
    "• An initial state probability vector p ∈ R  \n",
    "• A length t sequence of observations o.  \n",
    "\n",
    "Your function should run the decoding algorithm and return a length t sequences of states y, that corresponds to the most likely sequence of states to have produced the given sequence of observations for this hidden Markov model.\n",
    "The logic is very similar to the maximum function that you wrote for part 1 of that project. You can\n",
    "modify that code for this part"
   ]
  },
  {
   "cell_type": "code",
   "execution_count": 16,
   "id": "1bc66d0f",
   "metadata": {},
   "outputs": [],
   "source": [
    "def max(A,C,p,o):\n",
    "    #create a matrix to track\n",
    "    track = np.zeros((len(o), np.shape(A)[0]))\n",
    "    \n",
    "    #code from maximum function\n",
    "    gamma_old = C[o[0]]*p\n",
    "    for t in range(0, len(o)):\n",
    "        gamma_new = np.zeros_like(gamma_old)\n",
    "        for i in range(np.shape(A)[0]):\n",
    "            gamma_new[i] = np.max(gamma_old * A[i] * C[o[t],i])\n",
    "            #the maximum gamma\n",
    "            track[t][i] = np.argmax(gamma_new)\n",
    "        gamma = gamma_new\n",
    "    \n",
    "    return gamma, track\n",
    "\n",
    "def decoder (A,C,p,o):\n",
    "    \n",
    "    gamma, track = max(A,C,p,o)\n",
    "    #create a new array to store state sequence\n",
    "    state = []\n",
    "    \n",
    "    #range from len(o)-1 to -1, step by minus 1\n",
    "    for t in range(len(o)-1, -1, -1):\n",
    "        #the last one should be the index of maximum gamma\n",
    "        if t == len(o)-1:\n",
    "            state_max = np.argmax(gamma)\n",
    "        else:\n",
    "            #create a new empty matrix \n",
    "            new = np.zeros(np.shape(A)[0]-1)\n",
    "            for i in range(np.shape(A)[0]-1):\n",
    "                new[i] = A[i, state_max] * track[t][i]\n",
    "            state_max = np.argmax(new)\n",
    "        \n",
    "        #append the state sequence\n",
    "        state.append(state_max)\n",
    "\n",
    "    return state"
   ]
  },
  {
   "cell_type": "code",
   "execution_count": 17,
   "id": "693e1543",
   "metadata": {},
   "outputs": [
    {
     "ename": "AttributeError",
     "evalue": "'NoneType' object has no attribute 'reverse'",
     "output_type": "error",
     "traceback": [
      "\u001b[1;31m---------------------------------------------------------------------------\u001b[0m",
      "\u001b[1;31mAttributeError\u001b[0m                            Traceback (most recent call last)",
      "\u001b[1;32m~\\AppData\\Local\\Temp\\ipykernel_36932\\2003432810.py\u001b[0m in \u001b[0;36m<module>\u001b[1;34m\u001b[0m\n\u001b[0;32m      4\u001b[0m \u001b[0mp\u001b[0m \u001b[1;33m=\u001b[0m \u001b[0mnp\u001b[0m\u001b[1;33m.\u001b[0m\u001b[0marray\u001b[0m\u001b[1;33m(\u001b[0m\u001b[1;33m[\u001b[0m\u001b[1;36m1\u001b[0m\u001b[1;33m,\u001b[0m\u001b[1;36m0\u001b[0m\u001b[1;33m]\u001b[0m\u001b[1;33m)\u001b[0m\u001b[1;33m\u001b[0m\u001b[1;33m\u001b[0m\u001b[0m\n\u001b[0;32m      5\u001b[0m \u001b[0mo\u001b[0m \u001b[1;33m=\u001b[0m \u001b[0mnp\u001b[0m\u001b[1;33m.\u001b[0m\u001b[0marray\u001b[0m\u001b[1;33m(\u001b[0m\u001b[1;33m[\u001b[0m\u001b[1;36m0\u001b[0m\u001b[1;33m,\u001b[0m\u001b[1;36m0\u001b[0m\u001b[1;33m,\u001b[0m\u001b[1;36m0\u001b[0m\u001b[1;33m]\u001b[0m\u001b[1;33m)\u001b[0m\u001b[1;33m\u001b[0m\u001b[1;33m\u001b[0m\u001b[0m\n\u001b[1;32m----> 6\u001b[1;33m \u001b[0mdecoder\u001b[0m\u001b[1;33m(\u001b[0m\u001b[0mA\u001b[0m\u001b[1;33m,\u001b[0m\u001b[0mC\u001b[0m\u001b[1;33m,\u001b[0m\u001b[0mp\u001b[0m\u001b[1;33m,\u001b[0m\u001b[0mo\u001b[0m\u001b[1;33m)\u001b[0m\u001b[1;33m\u001b[0m\u001b[1;33m\u001b[0m\u001b[0m\n\u001b[0m",
      "\u001b[1;32m~\\AppData\\Local\\Temp\\ipykernel_36932\\2079178997.py\u001b[0m in \u001b[0;36mdecoder\u001b[1;34m(A, C, p, o)\u001b[0m\n\u001b[0;32m     34\u001b[0m \u001b[1;33m\u001b[0m\u001b[0m\n\u001b[0;32m     35\u001b[0m         \u001b[1;31m#append the state sequence\u001b[0m\u001b[1;33m\u001b[0m\u001b[1;33m\u001b[0m\u001b[0m\n\u001b[1;32m---> 36\u001b[1;33m         \u001b[0mstate\u001b[0m\u001b[1;33m.\u001b[0m\u001b[0mappend\u001b[0m\u001b[1;33m(\u001b[0m\u001b[0mstate_max\u001b[0m\u001b[1;33m)\u001b[0m\u001b[1;33m.\u001b[0m\u001b[0mreverse\u001b[0m\u001b[1;33m(\u001b[0m\u001b[1;33m)\u001b[0m\u001b[1;33m\u001b[0m\u001b[1;33m\u001b[0m\u001b[0m\n\u001b[0m\u001b[0;32m     37\u001b[0m \u001b[1;33m\u001b[0m\u001b[0m\n\u001b[0;32m     38\u001b[0m     \u001b[1;32mreturn\u001b[0m \u001b[0mstate\u001b[0m\u001b[1;33m\u001b[0m\u001b[1;33m\u001b[0m\u001b[0m\n",
      "\u001b[1;31mAttributeError\u001b[0m: 'NoneType' object has no attribute 'reverse'"
     ]
    }
   ],
   "source": [
    "#test\n",
    "A = np.array([[0.8, 0.2],[0.2,0.8]])\n",
    "C = np.array([[0.5, 0.75],[0.5, 0.25]])\n",
    "p = np.array([1,0])\n",
    "o = np.array([0,0,0])\n",
    "decoder(A,C,p,o)"
   ]
  },
  {
   "cell_type": "markdown",
   "id": "fc1c24f4",
   "metadata": {},
   "source": [
    "## 2.\n",
    "Suppose we play a game with a four-sided die where the player wins if the roll is even (0 or 2) and the\n",
    "dealer wins in the roll is odd (1 or 3). In this part you will use the function you wrote in problem 1 to\n",
    "detect potential cheating on the part of the dealer. Suppose the following:  \n",
    "\n",
    "• The has a fair die (all faces have .25 probability), and a weighted die (faces 0,1,2 each have .12\n",
    "probability and face 3 has a .64 probability)  \n",
    "• The dealer always starts with the fair die.  \n",
    "• After each subsequent roll there is a .1probability that the dealer switches to the weighted die.  \n",
    "• Once using the weighted die, there is a .1 probability that the dealer switches back to the fair die.  \n",
    "• The dealer is fearful of being caught. If the dealer switches back to the fair die, they use it for the\n",
    "rest of the sequence. (So there are at most two total switches)  "
   ]
  },
  {
   "cell_type": "markdown",
   "id": "09c4ddb3",
   "metadata": {},
   "source": [
    "Given each of the following sequences of rolls, determine the most likely sequence of states to have\n",
    "produced the sequence. Assuming this is the correct sequence of states, did the dealer cheat? If so, for\n",
    "which rolls was the dealer using the weighted die?"
   ]
  },
  {
   "cell_type": "code",
   "execution_count": 4,
   "id": "83103845",
   "metadata": {},
   "outputs": [],
   "source": [
    "A = np.array([[0.9, 0.1],[0.1,0.9]])\n",
    "C = np.array([[0.25, 0.12],[0.25, 0.12],[0.25,0.12],[0.25,0.64]])\n",
    "p = np.array([1,0])"
   ]
  },
  {
   "cell_type": "markdown",
   "id": "13d97104",
   "metadata": {},
   "source": [
    "### (a) "
   ]
  },
  {
   "cell_type": "code",
   "execution_count": 5,
   "id": "e4acce6a",
   "metadata": {},
   "outputs": [
    {
     "name": "stdout",
     "output_type": "stream",
     "text": [
      "the sequence of states is:  [0, 0, 0, 0, 0, 0, 0, 0, 0, 0, 0, 0, 0, 0, 0, 0, 0, 0, 0, 0, 0, 0, 0, 0, 0, 0, 0, 0, 0, 0]\n"
     ]
    }
   ],
   "source": [
    "o = [0, 3, 2, 2, 1, 2, 1, 1, 1, 1, 1, 0, 1, 3, 3, 1, 3, 3, 1, 1, 3, 2, 1, 1, 2, 2, 0, 0, 3, 2]\n",
    "print(\"the sequence of states is: \", decoder(A,C,p,o))"
   ]
  },
  {
   "cell_type": "markdown",
   "id": "73ef64c9",
   "metadata": {},
   "source": [
    "The dealer did not cheat."
   ]
  },
  {
   "cell_type": "markdown",
   "id": "8297f979",
   "metadata": {},
   "source": [
    "### (b)"
   ]
  },
  {
   "cell_type": "code",
   "execution_count": 6,
   "id": "c786d9fd",
   "metadata": {},
   "outputs": [
    {
     "name": "stdout",
     "output_type": "stream",
     "text": [
      "the sequence of states is:  [0, 0, 0, 0, 0, 0, 0, 0, 0, 0, 0, 0, 0, 0, 0, 0, 0, 0, 0, 0, 0, 0, 0, 0, 0, 0, 0, 0, 0, 0]\n"
     ]
    }
   ],
   "source": [
    "o = [0, 1, 3, 0, 1, 2, 3, 0, 2, 1, 3, 3, 3, 0, 3, 2, 3, 3, 3, 2, 2, 0, 1, 0, 2, 3, 0, 1, 1, 3]\n",
    "print(\"the sequence of states is: \", decoder(A,C,p,o))"
   ]
  },
  {
   "cell_type": "markdown",
   "id": "8a8490cc",
   "metadata": {},
   "source": []
  },
  {
   "cell_type": "markdown",
   "id": "857d7489",
   "metadata": {},
   "source": [
    "## 3. \n",
    "We will now use our algorithm for a gene identification problem.\n",
    "Suppose that have a DNA sequence of four nucleotides (A,C,G,T). Suppose that each sequence consists\n",
    "of an exon (a sequence of the DNA that encodes a protein), a 5’ receptor site (a single nucleotide) and\n",
    "an intron (an interrupter sequence that does not encode a protein). Assume the following probabilites:  \n",
    "\n",
    "• We always start with the exon.  \n",
    "• Given a nucleotide that is part of the exon, the next nucleotide will be part of the exon with\n",
    "probability .9, and will be the 5’ receptor with probability .  \n",
    "• The 5’ receptor is always exactly one nucleotide long. Once we pass it, all subsequent nucleotides\n",
    "are part of the intron.  \n",
    "\n",
    "Further assume the following emission probabilities:  \n",
    "• In the exon, all four nucleotides are equally likely.  \n",
    "• The 5’ nucleotide is a G with probability .95, and an A with probability .05.  \n",
    "• In the intron, the nucleotides A and T each have probability .4, and C and G have probability .  "
   ]
  },
  {
   "cell_type": "code",
   "execution_count": 7,
   "id": "c068526e",
   "metadata": {},
   "outputs": [],
   "source": [
    "A = np.array([[0.9, 0.0, 0.0], [0.1, 0.0, 0.0], [0.0, 1.0, 1.0]])\n",
    "C = np.array([[0.25, 0.05, 0.4], [0.25, 0,0.1], [0.25,0.95,0.1], [0.25,0,0.4]])\n",
    "p = np.array([1,0,0])"
   ]
  },
  {
   "cell_type": "markdown",
   "id": "cac5619b",
   "metadata": {},
   "source": [
    "Given the DNA sequence:  \n",
    "CT T CAT GT T AAAGCAGACGT AAGT CA  \n",
    "identify the initial segment that is most likely to be the exon.  "
   ]
  },
  {
   "cell_type": "code",
   "execution_count": 8,
   "id": "db6686ad",
   "metadata": {},
   "outputs": [
    {
     "name": "stdout",
     "output_type": "stream",
     "text": [
      "the sequence of states is:  [0, 0, 0, 0, 0, 0, 0, 0, 0, 0, 0, 0, 0, 0, 0, 0, 0, 0, 0, 0, 0, 0, 0, 0, 0, 0]\n"
     ]
    }
   ],
   "source": [
    "o = [1,3,3,1,0,3,2,3,3,0,0,0,2,1,0,2,0,1,2,3,0,0,2,3,1,0]\n",
    "print(\"the sequence of states is: \", decoder(A,C,p,o))"
   ]
  },
  {
   "cell_type": "code",
   "execution_count": 9,
   "id": "a1c48338",
   "metadata": {},
   "outputs": [
    {
     "name": "stdout",
     "output_type": "stream",
     "text": [
      "8\n",
      "7\n",
      "6\n",
      "5\n",
      "4\n",
      "3\n",
      "2\n",
      "1\n",
      "0\n",
      "1\n",
      "2\n",
      "3\n",
      "4\n",
      "5\n",
      "6\n"
     ]
    }
   ],
   "source": [
    "for i in range(8, 0, -1):\n",
    "    print(i) \n",
    "    \n",
    "for i in range(7):\n",
    "    print(i)"
   ]
  },
  {
   "cell_type": "code",
   "execution_count": null,
   "id": "87cfd301",
   "metadata": {},
   "outputs": [],
   "source": []
  }
 ],
 "metadata": {
  "kernelspec": {
   "display_name": "Python 3 (ipykernel)",
   "language": "python",
   "name": "python3"
  },
  "language_info": {
   "codemirror_mode": {
    "name": "ipython",
    "version": 3
   },
   "file_extension": ".py",
   "mimetype": "text/x-python",
   "name": "python",
   "nbconvert_exporter": "python",
   "pygments_lexer": "ipython3",
   "version": "3.9.13"
  }
 },
 "nbformat": 4,
 "nbformat_minor": 5
}
